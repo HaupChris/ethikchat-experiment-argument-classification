{
 "cells": [
  {
   "metadata": {
    "ExecuteTime": {
     "end_time": "2025-04-22T13:50:59.811707Z",
     "start_time": "2025-04-22T13:50:01.048370Z"
    }
   },
   "cell_type": "code",
   "source": [
    "import wandb\n",
    "\n",
    "api = wandb.Api()\n",
    "run = api.run(\"christian-hauptmann-uniwue/argument-classification/ru8lyf3q\")  # Replace with your actual entity, project, and run ID\n",
    "artifacts = run.logged_artifacts()\n",
    "\n",
    "for artifact in artifacts:\n",
    "    print(f\"Artifact Name: {artifact.name}\")\n",
    "    prin\n",
    "    artifact_dir = artifact.download()\n",
    "    break# Downloads the artifact to the current directory"
   ],
   "id": "d390ca16f151509d",
   "outputs": [
    {
     "name": "stdout",
     "output_type": "stream",
     "text": [
      "Artifact Name: run-ru8lyf3q-eval_cosine_topic_conf_mat_abs_table:v0\n"
     ]
    },
    {
     "name": "stderr",
     "output_type": "stream",
     "text": [
      "\u001B[34m\u001B[1mwandb\u001B[0m:   1 of 1 files downloaded.  \n"
     ]
    }
   ],
   "execution_count": 1
  },
  {
   "metadata": {
    "ExecuteTime": {
     "end_time": "2025-04-22T13:54:19.446802Z",
     "start_time": "2025-04-22T13:53:48.950255Z"
    }
   },
   "cell_type": "code",
   "source": [
    "for artifact in artifacts:\n",
    "    print(f\"Artifact Name: {artifact.name}\")\n",
    "    print(f\"{artifact}\")\n",
    "    artifact_dir = artifact.download()\n",
    "    # break# Downloads the artifact to the current directory"
   ],
   "id": "4693fe571b6f1a86",
   "outputs": [
    {
     "name": "stdout",
     "output_type": "stream",
     "text": [
      "Artifact Name: run-ru8lyf3q-eval_cosine_topic_conf_mat_abs_table:v0\n",
      "<Artifact QXJ0aWZhY3Q6MTY1OTg1MzI3OQ==>\n"
     ]
    },
    {
     "name": "stderr",
     "output_type": "stream",
     "text": [
      "\u001B[34m\u001B[1mwandb\u001B[0m:   1 of 1 files downloaded.  \n"
     ]
    },
    {
     "name": "stdout",
     "output_type": "stream",
     "text": [
      "Artifact Name: run-ru8lyf3q-eval_cosine_topic_conf_mat_abs_table:v1\n",
      "<Artifact QXJ0aWZhY3Q6MTY1OTkzMDA3Ng==>\n"
     ]
    },
    {
     "name": "stderr",
     "output_type": "stream",
     "text": [
      "\u001B[34m\u001B[1mwandb\u001B[0m:   1 of 1 files downloaded.  \n"
     ]
    },
    {
     "name": "stdout",
     "output_type": "stream",
     "text": [
      "Artifact Name: run-ru8lyf3q-eval_cosine_topic_conf_mat_abs_table:v2\n",
      "<Artifact QXJ0aWZhY3Q6MTY2MDIxMjM2MA==>\n"
     ]
    },
    {
     "name": "stderr",
     "output_type": "stream",
     "text": [
      "\u001B[34m\u001B[1mwandb\u001B[0m:   1 of 1 files downloaded.  \n"
     ]
    },
    {
     "name": "stdout",
     "output_type": "stream",
     "text": [
      "Artifact Name: run-ru8lyf3q-test_cosine_topic_conf_mat_abs_table:v0\n",
      "<Artifact QXJ0aWZhY3Q6MTY2MTg4MTg4OA==>\n"
     ]
    },
    {
     "name": "stderr",
     "output_type": "stream",
     "text": [
      "\u001B[34m\u001B[1mwandb\u001B[0m:   1 of 1 files downloaded.  \n"
     ]
    },
    {
     "name": "stdout",
     "output_type": "stream",
     "text": [
      "Artifact Name: run-ru8lyf3q-test_deepdive_cosine_error_analysis:v0\n",
      "<Artifact QXJ0aWZhY3Q6MTY2MTg4MjE1Ng==>\n"
     ]
    },
    {
     "name": "stderr",
     "output_type": "stream",
     "text": [
      "\u001B[34m\u001B[1mwandb\u001B[0m:   1 of 1 files downloaded.  \n"
     ]
    },
    {
     "name": "stdout",
     "output_type": "stream",
     "text": [
      "Artifact Name: run-ru8lyf3q-test_deepdive_cosine_topic_accuracy:v0\n",
      "<Artifact QXJ0aWZhY3Q6MTY2MTg4MjIyNA==>\n"
     ]
    },
    {
     "name": "stderr",
     "output_type": "stream",
     "text": [
      "\u001B[34m\u001B[1mwandb\u001B[0m:   1 of 1 files downloaded.  \n"
     ]
    },
    {
     "name": "stdout",
     "output_type": "stream",
     "text": [
      "Artifact Name: run-ru8lyf3q-test_deepdive_cosine_topic_type_accuracy:v0\n",
      "<Artifact QXJ0aWZhY3Q6MTY2MTg4MjMwMw==>\n"
     ]
    },
    {
     "name": "stderr",
     "output_type": "stream",
     "text": [
      "\u001B[34m\u001B[1mwandb\u001B[0m:   1 of 1 files downloaded.  \n"
     ]
    },
    {
     "name": "stdout",
     "output_type": "stream",
     "text": [
      "Artifact Name: run-ru8lyf3q-test_deepdive_cosine_topic_level_accuracy:v0\n",
      "<Artifact QXJ0aWZhY3Q6MTY2MTg4MjM1Nw==>\n"
     ]
    },
    {
     "name": "stderr",
     "output_type": "stream",
     "text": [
      "\u001B[34m\u001B[1mwandb\u001B[0m:   1 of 1 files downloaded.  \n"
     ]
    },
    {
     "name": "stdout",
     "output_type": "stream",
     "text": [
      "Artifact Name: run-ru8lyf3q-test_deepdive_cosine_topic_label_accuracy:v0\n",
      "<Artifact QXJ0aWZhY3Q6MTY2MTg4MjM4OA==>\n"
     ]
    },
    {
     "name": "stderr",
     "output_type": "stream",
     "text": [
      "\u001B[34m\u001B[1mwandb\u001B[0m:   1 of 1 files downloaded.  \n"
     ]
    },
    {
     "name": "stdout",
     "output_type": "stream",
     "text": [
      "Artifact Name: run-ru8lyf3q-test_deepdive_cosine_confusion_MEDAI_node_labels_abs:v0\n",
      "<Artifact QXJ0aWZhY3Q6MTY2MTg4MjQyNw==>\n"
     ]
    },
    {
     "name": "stderr",
     "output_type": "stream",
     "text": [
      "\u001B[34m\u001B[1mwandb\u001B[0m:   1 of 1 files downloaded.  \n"
     ]
    },
    {
     "name": "stdout",
     "output_type": "stream",
     "text": [
      "Artifact Name: run-ru8lyf3q-test_deepdive_cosine_confusion_MEDAI_node_labels_rel:v0\n",
      "<Artifact QXJ0aWZhY3Q6MTY2MTg4MjQ2OA==>\n"
     ]
    },
    {
     "name": "stderr",
     "output_type": "stream",
     "text": [
      "\u001B[34m\u001B[1mwandb\u001B[0m:   1 of 1 files downloaded.  \n"
     ]
    },
    {
     "name": "stdout",
     "output_type": "stream",
     "text": [
      "Artifact Name: run-ru8lyf3q-test_deepdive_cosine_confusion_MEDAI_node_type_table:v0\n",
      "<Artifact QXJ0aWZhY3Q6MTY2MTg4MjUyMQ==>\n"
     ]
    },
    {
     "name": "stderr",
     "output_type": "stream",
     "text": [
      "\u001B[34m\u001B[1mwandb\u001B[0m:   1 of 1 files downloaded.  \n"
     ]
    },
    {
     "name": "stdout",
     "output_type": "stream",
     "text": [
      "Artifact Name: run-ru8lyf3q-test_deepdive_cosine_confusion_MEDAI_node_level_table:v0\n",
      "<Artifact QXJ0aWZhY3Q6MTY2MTg4MjU1NA==>\n"
     ]
    },
    {
     "name": "stderr",
     "output_type": "stream",
     "text": [
      "\u001B[34m\u001B[1mwandb\u001B[0m:   1 of 1 files downloaded.  \n"
     ]
    },
    {
     "name": "stdout",
     "output_type": "stream",
     "text": [
      "Artifact Name: run-ru8lyf3q-test_deepdive_cosine_confusion_JURAI_node_labels_abs:v0\n",
      "<Artifact QXJ0aWZhY3Q6MTY2MTg4MjU5Ng==>\n"
     ]
    },
    {
     "name": "stderr",
     "output_type": "stream",
     "text": [
      "\u001B[34m\u001B[1mwandb\u001B[0m:   1 of 1 files downloaded.  \n"
     ]
    },
    {
     "name": "stdout",
     "output_type": "stream",
     "text": [
      "Artifact Name: run-ru8lyf3q-test_deepdive_cosine_confusion_JURAI_node_labels_rel:v0\n",
      "<Artifact QXJ0aWZhY3Q6MTY2MTg4MjY0NQ==>\n"
     ]
    },
    {
     "name": "stderr",
     "output_type": "stream",
     "text": [
      "\u001B[34m\u001B[1mwandb\u001B[0m:   1 of 1 files downloaded.  \n"
     ]
    },
    {
     "name": "stdout",
     "output_type": "stream",
     "text": [
      "Artifact Name: run-ru8lyf3q-test_deepdive_cosine_confusion_JURAI_node_type_table:v0\n",
      "<Artifact QXJ0aWZhY3Q6MTY2MTg4MzA4Mw==>\n"
     ]
    },
    {
     "name": "stderr",
     "output_type": "stream",
     "text": [
      "\u001B[34m\u001B[1mwandb\u001B[0m:   1 of 1 files downloaded.  \n"
     ]
    },
    {
     "name": "stdout",
     "output_type": "stream",
     "text": [
      "Artifact Name: run-ru8lyf3q-test_deepdive_cosine_confusion_JURAI_node_level_table:v0\n",
      "<Artifact QXJ0aWZhY3Q6MTY2MTg4MzE0MA==>\n"
     ]
    },
    {
     "name": "stderr",
     "output_type": "stream",
     "text": [
      "\u001B[34m\u001B[1mwandb\u001B[0m:   1 of 1 files downloaded.  \n"
     ]
    },
    {
     "name": "stdout",
     "output_type": "stream",
     "text": [
      "Artifact Name: run-ru8lyf3q-test_deepdive_cosine_confusion_AUTOAI_node_labels_abs:v0\n",
      "<Artifact QXJ0aWZhY3Q6MTY2MTg4MzE4Ng==>\n"
     ]
    },
    {
     "name": "stderr",
     "output_type": "stream",
     "text": [
      "\u001B[34m\u001B[1mwandb\u001B[0m:   1 of 1 files downloaded.  \n"
     ]
    },
    {
     "name": "stdout",
     "output_type": "stream",
     "text": [
      "Artifact Name: run-ru8lyf3q-test_deepdive_cosine_confusion_AUTOAI_node_labels_rel:v0\n",
      "<Artifact QXJ0aWZhY3Q6MTY2MTg4MzIzMg==>\n"
     ]
    },
    {
     "name": "stderr",
     "output_type": "stream",
     "text": [
      "\u001B[34m\u001B[1mwandb\u001B[0m:   1 of 1 files downloaded.  \n"
     ]
    },
    {
     "name": "stdout",
     "output_type": "stream",
     "text": [
      "Artifact Name: run-ru8lyf3q-test_deepdive_cosine_confusion_AUTOAI_node_type_table:v0\n",
      "<Artifact QXJ0aWZhY3Q6MTY2MTg4MzI2NQ==>\n"
     ]
    },
    {
     "name": "stderr",
     "output_type": "stream",
     "text": [
      "\u001B[34m\u001B[1mwandb\u001B[0m:   1 of 1 files downloaded.  \n"
     ]
    },
    {
     "name": "stdout",
     "output_type": "stream",
     "text": [
      "Artifact Name: run-ru8lyf3q-test_deepdive_cosine_confusion_AUTOAI_node_level_table:v0\n",
      "<Artifact QXJ0aWZhY3Q6MTY2MTg4MzI4OA==>\n"
     ]
    },
    {
     "name": "stderr",
     "output_type": "stream",
     "text": [
      "\u001B[34m\u001B[1mwandb\u001B[0m:   1 of 1 files downloaded.  \n"
     ]
    },
    {
     "name": "stdout",
     "output_type": "stream",
     "text": [
      "Artifact Name: run-ru8lyf3q-test_deepdive_cosine_confusion_REFAI_node_labels_abs:v0\n",
      "<Artifact QXJ0aWZhY3Q6MTY2MTg4MzMyMA==>\n"
     ]
    },
    {
     "name": "stderr",
     "output_type": "stream",
     "text": [
      "\u001B[34m\u001B[1mwandb\u001B[0m:   1 of 1 files downloaded.  \n"
     ]
    },
    {
     "name": "stdout",
     "output_type": "stream",
     "text": [
      "Artifact Name: run-ru8lyf3q-test_deepdive_cosine_confusion_REFAI_node_labels_rel:v0\n",
      "<Artifact QXJ0aWZhY3Q6MTY2MTg4MzM1OA==>\n"
     ]
    },
    {
     "name": "stderr",
     "output_type": "stream",
     "text": [
      "\u001B[34m\u001B[1mwandb\u001B[0m:   1 of 1 files downloaded.  \n"
     ]
    },
    {
     "name": "stdout",
     "output_type": "stream",
     "text": [
      "Artifact Name: run-ru8lyf3q-test_deepdive_cosine_confusion_REFAI_node_type_table:v0\n",
      "<Artifact QXJ0aWZhY3Q6MTY2MTg4MzM4OQ==>\n"
     ]
    },
    {
     "name": "stderr",
     "output_type": "stream",
     "text": [
      "\u001B[34m\u001B[1mwandb\u001B[0m:   1 of 1 files downloaded.  \n"
     ]
    },
    {
     "name": "stdout",
     "output_type": "stream",
     "text": [
      "Artifact Name: run-ru8lyf3q-test_deepdive_cosine_confusion_REFAI_node_level_table:v0\n",
      "<Artifact QXJ0aWZhY3Q6MTY2MTg4MzQyNg==>\n"
     ]
    },
    {
     "name": "stderr",
     "output_type": "stream",
     "text": [
      "\u001B[34m\u001B[1mwandb\u001B[0m:   1 of 1 files downloaded.  \n"
     ]
    },
    {
     "name": "stdout",
     "output_type": "stream",
     "text": [
      "Artifact Name: run-ru8lyf3q-test_deepdive_cosine_confusion_topics_table:v0\n",
      "<Artifact QXJ0aWZhY3Q6MTY2MTg4MzQ0OQ==>\n"
     ]
    },
    {
     "name": "stderr",
     "output_type": "stream",
     "text": [
      "\u001B[34m\u001B[1mwandb\u001B[0m:   1 of 1 files downloaded.  \n"
     ]
    },
    {
     "name": "stdout",
     "output_type": "stream",
     "text": [
      "Artifact Name: run-ru8lyf3q-test_deepdive_cosine_single_argument_classification_normal_queries_table:v0\n",
      "<Artifact QXJ0aWZhY3Q6MTY2MTg4MzQ4Mg==>\n"
     ]
    },
    {
     "name": "stderr",
     "output_type": "stream",
     "text": [
      "\u001B[34m\u001B[1mwandb\u001B[0m:   1 of 1 files downloaded.  \n"
     ]
    },
    {
     "name": "stdout",
     "output_type": "stream",
     "text": [
      "Artifact Name: run-ru8lyf3q-test_deepdive_cosine_single_argument_classification_noisy_queries_table:v0\n",
      "<Artifact QXJ0aWZhY3Q6MTY2MTg4MzUxNg==>\n"
     ]
    },
    {
     "name": "stderr",
     "output_type": "stream",
     "text": [
      "\u001B[34m\u001B[1mwandb\u001B[0m:   1 of 1 files downloaded.  \n"
     ]
    },
    {
     "name": "stdout",
     "output_type": "stream",
     "text": [
      "Artifact Name: run-ru8lyf3q-test_deepdive_cosine_single_argument_classification_merged_queries_table:v0\n",
      "<Artifact QXJ0aWZhY3Q6MTY2MTg4MzU0Ng==>\n"
     ]
    },
    {
     "name": "stderr",
     "output_type": "stream",
     "text": [
      "\u001B[34m\u001B[1mwandb\u001B[0m:   1 of 1 files downloaded.  \n"
     ]
    },
    {
     "name": "stdout",
     "output_type": "stream",
     "text": [
      "Artifact Name: run-ru8lyf3q-test_deepdive_cosine_multi_argument_classification_exact_match_table:v0\n",
      "<Artifact QXJ0aWZhY3Q6MTY2MTg4MzU4Mg==>\n"
     ]
    },
    {
     "name": "stderr",
     "output_type": "stream",
     "text": [
      "\u001B[34m\u001B[1mwandb\u001B[0m:   1 of 1 files downloaded.  \n"
     ]
    },
    {
     "name": "stdout",
     "output_type": "stream",
     "text": [
      "Artifact Name: run-ru8lyf3q-test_deepdive_cosine_multi_argument_classification_partial_match_table:v0\n",
      "<Artifact QXJ0aWZhY3Q6MTY2MTg4MzYxNQ==>\n"
     ]
    },
    {
     "name": "stderr",
     "output_type": "stream",
     "text": [
      "\u001B[34m\u001B[1mwandb\u001B[0m:   1 of 1 files downloaded.  \n"
     ]
    },
    {
     "name": "stdout",
     "output_type": "stream",
     "text": [
      "Artifact Name: run-ru8lyf3q-test_deepdive_cosine_multi_argument_classification_true_partial_match_table:v0\n",
      "<Artifact QXJ0aWZhY3Q6MTY2MTg4MzY0MQ==>\n"
     ]
    },
    {
     "name": "stderr",
     "output_type": "stream",
     "text": [
      "\u001B[34m\u001B[1mwandb\u001B[0m:   1 of 1 files downloaded.  \n"
     ]
    },
    {
     "name": "stdout",
     "output_type": "stream",
     "text": [
      "Artifact Name: run-ru8lyf3q-test_deepdive_cosine_multi_argument_classification_exact_match_noisy_table:v0\n",
      "<Artifact QXJ0aWZhY3Q6MTY2MTg4MzY3NQ==>\n"
     ]
    },
    {
     "name": "stderr",
     "output_type": "stream",
     "text": [
      "\u001B[34m\u001B[1mwandb\u001B[0m:   1 of 1 files downloaded.  \n"
     ]
    },
    {
     "name": "stdout",
     "output_type": "stream",
     "text": [
      "Artifact Name: run-ru8lyf3q-test_deepdive_cosine_multi_argument_classification_partial_match_noisy_table:v0\n",
      "<Artifact QXJ0aWZhY3Q6MTY2MTg4MzczMw==>\n"
     ]
    },
    {
     "name": "stderr",
     "output_type": "stream",
     "text": [
      "\u001B[34m\u001B[1mwandb\u001B[0m:   1 of 1 files downloaded.  \n"
     ]
    },
    {
     "name": "stdout",
     "output_type": "stream",
     "text": [
      "Artifact Name: run-ru8lyf3q-test_deepdive_cosine_multi_argument_classification_true_partial_match_noisy_table:v0\n",
      "<Artifact QXJ0aWZhY3Q6MTY2MTg4Mzc1Nw==>\n"
     ]
    },
    {
     "name": "stderr",
     "output_type": "stream",
     "text": [
      "\u001B[34m\u001B[1mwandb\u001B[0m:   1 of 1 files downloaded.  \n"
     ]
    },
    {
     "name": "stdout",
     "output_type": "stream",
     "text": [
      "Artifact Name: run-ru8lyf3q-test_deepdive_cosine_multi_argument_classification_exact_match_merged_table:v0\n",
      "<Artifact QXJ0aWZhY3Q6MTY2MTg4Mzc5OQ==>\n"
     ]
    },
    {
     "name": "stderr",
     "output_type": "stream",
     "text": [
      "\u001B[34m\u001B[1mwandb\u001B[0m:   1 of 1 files downloaded.  \n"
     ]
    },
    {
     "name": "stdout",
     "output_type": "stream",
     "text": [
      "Artifact Name: run-ru8lyf3q-test_deepdive_cosine_multi_argument_classification_partial_match_merged_table:v0\n",
      "<Artifact QXJ0aWZhY3Q6MTY2MTg4MzgzMQ==>\n"
     ]
    },
    {
     "name": "stderr",
     "output_type": "stream",
     "text": [
      "\u001B[34m\u001B[1mwandb\u001B[0m:   1 of 1 files downloaded.  \n"
     ]
    },
    {
     "name": "stdout",
     "output_type": "stream",
     "text": [
      "Artifact Name: run-ru8lyf3q-test_deepdive_cosine_multi_argument_classification_true_partial_match_merged_table:v0\n",
      "<Artifact QXJ0aWZhY3Q6MTY2MTg4Mzg1Mg==>\n"
     ]
    },
    {
     "name": "stderr",
     "output_type": "stream",
     "text": [
      "\u001B[34m\u001B[1mwandb\u001B[0m:   1 of 1 files downloaded.  \n",
      "\u001B[34m\u001B[1mwandb\u001B[0m: Downloading large artifact run-ru8lyf3q-history:v0, 69.53MB. 1 files... \n"
     ]
    },
    {
     "name": "stdout",
     "output_type": "stream",
     "text": [
      "Artifact Name: run-ru8lyf3q-history:v0\n",
      "<Artifact QXJ0aWZhY3Q6MTY2NTY2ODY3MA==>\n"
     ]
    },
    {
     "name": "stderr",
     "output_type": "stream",
     "text": [
      "\u001B[34m\u001B[1mwandb\u001B[0m:   1 of 1 files downloaded.  \n",
      "Done. 0:0:4.1\n"
     ]
    }
   ],
   "execution_count": 4
  }
 ],
 "metadata": {},
 "nbformat": 4,
 "nbformat_minor": 5
}
