{
 "cells": [
  {
   "cell_type": "code",
   "id": "initial_id",
   "metadata": {
    "collapsed": true,
    "ExecuteTime": {
     "end_time": "2025-05-13T11:14:53.804351Z",
     "start_time": "2025-05-13T11:14:50.422429Z"
    }
   },
   "source": [
    "from src.data.dataset_splitting.dataset_splits import create_splits_from_corpus_dataset\n",
    "from ethikchat_argtoolkit.Dialogue.discussion_szenario import DiscussionSzenario\n",
    "from datasets import load_from_disk\n",
    "\n",
    "from src.data.classes import DatasetSplitType\n",
    "\n",
    "test_ds_path = \"../../data/processed/with_context/dataset_split_in_distribution_from_v3/test\"\n",
    "test_dataset = load_from_disk(test_ds_path)\n",
    "\n",
    "corpus_dataset = load_from_disk(\"../../data/processed/with_context/corpus_dataset_v3\")\n",
    "\n",
    "test_ds_2 = create_splits_from_corpus_dataset(\n",
    "        corpus_dataset=corpus_dataset,\n",
    "        dataset_split_type=DatasetSplitType.InDistribution,\n",
    "        test_scenario=DiscussionSzenario.JURAI,\n",
    "        save_folder=\"../../data/processed/with_context\",\n",
    "        dataset_save_name=\"dataset_split_in_distribution_from_v3\"\n",
    "    )[\"test\"]"
   ],
   "outputs": [
    {
     "name": "stdout",
     "output_type": "stream",
     "text": [
      "Dataset already exists at ../../data/processed/with_context/dataset_split_in_distribution_from_v3. Loading it.\n"
     ]
    },
    {
     "name": "stderr",
     "output_type": "stream",
     "text": [
      "/home/christian/PycharmProjects/ethikchat-experiment-argument-classification/src/data/dataset_splitting/utils.py:97: UserWarning: Overlapping texts between train and validation (but no overlapping query ids, so theses are not the same anchors): 1\n",
      "Example texts: ['Wer haftet wenn die KI einen Fehler macht?']\n",
      "  warnings.warn(\n"
     ]
    }
   ],
   "execution_count": 1
  },
  {
   "metadata": {
    "ExecuteTime": {
     "end_time": "2025-05-13T11:14:56.282861Z",
     "start_time": "2025-05-13T11:14:55.965511Z"
    }
   },
   "cell_type": "code",
   "source": [
    "pas=\"Ausserdem ist die emotionale Verbindung zwischen medizinischem personal und Patient fuer eine gute behandlung essentiell\"\n",
    "for passage in test_ds_2[\"passages\"]:\n",
    "    if pas in passage[\"text\"]:\n",
    "        print(passage)"
   ],
   "id": "8bfc84cc4246f714",
   "outputs": [
    {
     "name": "stdout",
     "output_type": "stream",
     "text": [
      "{'id': 37, 'text': 'Ausserdem ist die emotionale Verbindung zwischen medizinischem personal und Patient fuer eine gute behandlung essentiell', 'label': 'Z.K1', 'discussion_scenario': 'MEDAI', 'passage_source': 'user_utterance', 'retrieved_query_id': 45}\n"
     ]
    }
   ],
   "execution_count": 2
  },
  {
   "metadata": {
    "ExecuteTime": {
     "end_time": "2025-05-13T11:23:38.434711Z",
     "start_time": "2025-05-13T11:23:38.323421Z"
    }
   },
   "cell_type": "code",
   "source": [
    "from sentence_transformers import SentenceTransformer\n",
    "\n",
    "checkpoint_path = \"../../experiments_outputs/6te7vzul/lilac-sweep-65/checkpoint-473\"\n",
    "model = SentenceTransformer(checkpoint_path)"
   ],
   "id": "b3cb87270a09ea0f",
   "outputs": [],
   "execution_count": 8
  },
  {
   "metadata": {
    "ExecuteTime": {
     "end_time": "2025-05-13T11:23:41.967829Z",
     "start_time": "2025-05-13T11:23:41.326227Z"
    }
   },
   "cell_type": "code",
   "source": [
    "model = SentenceTransformer(checkpoint_path)\n",
    "# Encode texts\n",
    "query=\"[MEDAI] [BOT] Hallo user, willkommen im Chat. Deine Meinung ist, dass in unserem Szenario KI die Zulassung als Ärzt:innen nicht erhalten sollte. Bitte nenne zunächst das wichtigste Argument für deine Meinung. [SEP] [USER] Einfuehlsamkeit \"\n",
    "passage=\"[MEDAI] Ausserdem ist die emotionale Verbindung zwischen medizinischem personal und Patient fuer eine gute behandlung essentiell\"\n",
    "embedding1 = model.encode(query, convert_to_tensor=True)\n",
    "embedding2 = model.encode(passage, convert_to_tensor=True)\n",
    "\n",
    "# Compute similarity\n",
    "cos_similarity = model.similarity(embedding1, embedding2)\n",
    "cos_similarity"
   ],
   "id": "f14642565f65e4fa",
   "outputs": [
    {
     "data": {
      "text/plain": [
       "tensor([[0.9599]])"
      ]
     },
     "execution_count": 9,
     "metadata": {},
     "output_type": "execute_result"
    }
   ],
   "execution_count": 9
  },
  {
   "metadata": {
    "ExecuteTime": {
     "end_time": "2025-05-13T11:26:02.671593Z",
     "start_time": "2025-05-13T11:26:02.590130Z"
    }
   },
   "cell_type": "code",
   "source": [
    "\n",
    "\n",
    "emb1_16 = embedding1.half()\n",
    "emb2_16 = embedding2.half()\n",
    "# Compute similarity\n",
    "cos_similarity = model.similarity(emb1_16, emb2_16)\n",
    "cos_similarity\n"
   ],
   "id": "f655dbe76305db77",
   "outputs": [
    {
     "ename": "RuntimeError",
     "evalue": "\"addmm_impl_cpu_\" not implemented for 'Half'",
     "output_type": "error",
     "traceback": [
      "\u001B[0;31m---------------------------------------------------------------------------\u001B[0m",
      "\u001B[0;31mRuntimeError\u001B[0m                              Traceback (most recent call last)",
      "Cell \u001B[0;32mIn[11], line 4\u001B[0m\n\u001B[1;32m      2\u001B[0m emb2_16 \u001B[38;5;241m=\u001B[39m embedding2\u001B[38;5;241m.\u001B[39mhalf()\n\u001B[1;32m      3\u001B[0m \u001B[38;5;66;03m# Compute similarity\u001B[39;00m\n\u001B[0;32m----> 4\u001B[0m cos_similarity \u001B[38;5;241m=\u001B[39m \u001B[43mmodel\u001B[49m\u001B[38;5;241;43m.\u001B[39;49m\u001B[43msimilarity\u001B[49m\u001B[43m(\u001B[49m\u001B[43memb1_16\u001B[49m\u001B[43m,\u001B[49m\u001B[43m \u001B[49m\u001B[43memb2_16\u001B[49m\u001B[43m)\u001B[49m\n\u001B[1;32m      5\u001B[0m cos_similarity\n",
      "File \u001B[0;32m~/PycharmProjects/ethikchat-experiment-argument-classification/venv/lib/python3.10/site-packages/sentence_transformers/util.py:108\u001B[0m, in \u001B[0;36mcos_sim\u001B[0;34m(a, b)\u001B[0m\n\u001B[1;32m    106\u001B[0m a_norm \u001B[38;5;241m=\u001B[39m normalize_embeddings(a)\n\u001B[1;32m    107\u001B[0m b_norm \u001B[38;5;241m=\u001B[39m normalize_embeddings(b)\n\u001B[0;32m--> 108\u001B[0m \u001B[38;5;28;01mreturn\u001B[39;00m \u001B[43mtorch\u001B[49m\u001B[38;5;241;43m.\u001B[39;49m\u001B[43mmm\u001B[49m\u001B[43m(\u001B[49m\u001B[43ma_norm\u001B[49m\u001B[43m,\u001B[49m\u001B[43m \u001B[49m\u001B[43mb_norm\u001B[49m\u001B[38;5;241;43m.\u001B[39;49m\u001B[43mtranspose\u001B[49m\u001B[43m(\u001B[49m\u001B[38;5;241;43m0\u001B[39;49m\u001B[43m,\u001B[49m\u001B[43m \u001B[49m\u001B[38;5;241;43m1\u001B[39;49m\u001B[43m)\u001B[49m\u001B[43m)\u001B[49m\n",
      "\u001B[0;31mRuntimeError\u001B[0m: \"addmm_impl_cpu_\" not implemented for 'Half'"
     ]
    }
   ],
   "execution_count": 11
  }
 ],
 "metadata": {
  "kernelspec": {
   "display_name": "Python 3",
   "language": "python",
   "name": "python3"
  },
  "language_info": {
   "codemirror_mode": {
    "name": "ipython",
    "version": 2
   },
   "file_extension": ".py",
   "mimetype": "text/x-python",
   "name": "python",
   "nbconvert_exporter": "python",
   "pygments_lexer": "ipython2",
   "version": "2.7.6"
  }
 },
 "nbformat": 4,
 "nbformat_minor": 5
}
