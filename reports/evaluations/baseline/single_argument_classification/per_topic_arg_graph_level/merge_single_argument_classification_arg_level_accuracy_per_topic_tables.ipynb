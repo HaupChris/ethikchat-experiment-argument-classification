{
 "cells": [
  {
   "cell_type": "code",
   "id": "initial_id",
   "metadata": {
    "collapsed": true,
    "ExecuteTime": {
     "end_time": "2025-03-27T12:57:34.634554Z",
     "start_time": "2025-03-27T12:57:34.620404Z"
    }
   },
   "source": [
    "import pandas as pd\n",
    "from pathlib import Path\n",
    "\n",
    "# List of uploaded CSV files\n",
    "csv_files = [\n",
    "    \"./single_argument_classification_arg_level_accuracy_per_topic_GBERT_LARGE_1.csv\",\n",
    "    \"./single_argument_classification_arg_level_accuracy_per_topic_GBERT_LARGE_2.csv\",\n",
    "    \"./single_argument_classification_arg_level_accuracy_per_topic_GBERT_LARGE_3.csv\",\n",
    "    \"./single_argument_classification_arg_level_accuracy_per_topic_ROBERTA_V2.csv\",\n",
    "    \"./single_argument_classification_arg_level_accuracy_per_topic_STS_V2.csv\",\n",
    "]\n",
    "model_names = {\n",
    "    \"./single_argument_classification_arg_level_accuracy_per_topic_GBERT_LARGE_1.csv\": \"GBERT_LARGE_1\",\n",
    "    \"./single_argument_classification_arg_level_accuracy_per_topic_GBERT_LARGE_2.csv\": \"GBERT_LARGE_2\",\n",
    "    \"./single_argument_classification_arg_level_accuracy_per_topic_GBERT_LARGE_3.csv\": \"GBERT_LARGE_3\",\n",
    "    \"./single_argument_classification_arg_level_accuracy_per_topic_ROBERTA_V2.csv\": \"ROBERTA_V2\",\n",
    "    \"./single_argument_classification_arg_level_accuracy_per_topic_STS_V2.csv\": \"STS_V2\",\n",
    "}\n",
    "\n",
    "# Load and annotate each CSV\n",
    "dataframes = []\n",
    "for file_path in csv_files:\n",
    "    df = pd.read_csv(file_path)\n",
    "    model_name = model_names[file_path]\n",
    "    df[\"model\"] = model_name\n",
    "    dataframes.append(df)\n",
    "\n",
    "# Combine all into one DataFrame\n",
    "combined_df = pd.concat(dataframes, ignore_index=True)\n",
    "\n",
    "# Pivot the table to have separate columns for each topic-node_level combination\n",
    "pivot_df = combined_df.pivot_table(\n",
    "    index=\"model\",\n",
    "    columns=[\"topic\", \"node_level\"],\n",
    "    values=\"accuracy_at_1\"\n",
    ")\n",
    "\n",
    "# Sort columns for consistent LaTeX output\n",
    "pivot_df = pivot_df.sort_index(axis=1, level=[0, 1])\n",
    "pivot_df = pivot_df.reset_index()\n",
    "\n",
    "\n",
    "combined_df.to_csv(\"single_argument_classification_arg_level_accuracy_per_topic_combined.csv\")"
   ],
   "outputs": [],
   "execution_count": 10
  },
  {
   "metadata": {},
   "cell_type": "code",
   "outputs": [],
   "execution_count": null,
   "source": "",
   "id": "2cf64e453333d3ae"
  }
 ],
 "metadata": {
  "kernelspec": {
   "display_name": "Python 3",
   "language": "python",
   "name": "python3"
  },
  "language_info": {
   "codemirror_mode": {
    "name": "ipython",
    "version": 2
   },
   "file_extension": ".py",
   "mimetype": "text/x-python",
   "name": "python",
   "nbconvert_exporter": "python",
   "pygments_lexer": "ipython2",
   "version": "2.7.6"
  }
 },
 "nbformat": 4,
 "nbformat_minor": 5
}
